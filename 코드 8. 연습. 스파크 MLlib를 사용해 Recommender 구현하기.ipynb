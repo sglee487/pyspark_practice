{
 "cells": [
  {
   "cell_type": "markdown",
   "id": "better-buddy",
   "metadata": {},
   "source": [
    "이 연습에선 스파크 MLlib 및 ALS를 사용해 권장 사항을 구현하는 방법을 보여 준다."
   ]
  },
  {
   "cell_type": "code",
   "execution_count": 1,
   "id": "differential-blink",
   "metadata": {},
   "outputs": [
    {
     "name": "stdout",
     "output_type": "stream",
     "text": [
      "Welcome to\n",
      "      ____              __\n",
      "     / __/__  ___ _____/ /__\n",
      "    _\\ \\/ _ \\/ _ `/ __/  '_/\n",
      "   /__ / .__/\\_,_/_/ /_/\\_\\   version 3.0.1\n",
      "      /_/\n",
      "\n",
      "Using Python version 3.8.5 (default, Sep  4 2020 02:22:02)\n",
      "SparkSession available as 'spark'.\n"
     ]
    }
   ],
   "source": [
    "import os\n",
    "SPARK_HOME = '/Users/isang-geon/spark'\n",
    "# exec(open(os.path.join(os.environ[\"SPARK_HOME\"], 'python/pyspark/shell.py')).read())\n",
    "exec(open(os.path.join(SPARK_HOME, 'python/pyspark/shell.py')).read())"
   ]
  },
  {
   "cell_type": "code",
   "execution_count": 2,
   "id": "departmental-chest",
   "metadata": {},
   "outputs": [],
   "source": [
    "from pyspark.mllib.recommendation import ALS, MatrixFactorizationModel, Rating"
   ]
  },
  {
   "cell_type": "code",
   "execution_count": 9,
   "id": "blessed-wellington",
   "metadata": {},
   "outputs": [
    {
     "data": {
      "text/plain": [
       "['196\\t242\\t3\\t881250949',\n",
       " '186\\t302\\t3\\t891717742',\n",
       " '22\\t377\\t1\\t878887116',\n",
       " '244\\t51\\t2\\t880606923',\n",
       " '166\\t346\\t1\\t886397596']"
      ]
     },
     "execution_count": 9,
     "metadata": {},
     "output_type": "execute_result"
    }
   ],
   "source": [
    "# data = sc.textFile(\"hdfs://\" + SPARK_HOME + '/data/movielens')\n",
    "data = sc.textFile(\"file://\" + SPARK_HOME + '/data/movielens')\n",
    "data.take(5)"
   ]
  },
  {
   "cell_type": "code",
   "execution_count": 13,
   "id": "paperback-nepal",
   "metadata": {},
   "outputs": [
    {
     "data": {
      "text/plain": [
       "[Rating(user=196, product=242, rating=3.0),\n",
       " Rating(user=186, product=302, rating=3.0),\n",
       " Rating(user=22, product=377, rating=1.0),\n",
       " Rating(user=244, product=51, rating=2.0),\n",
       " Rating(user=166, product=346, rating=1.0)]"
      ]
     },
     "execution_count": 13,
     "metadata": {},
     "output_type": "execute_result"
    }
   ],
   "source": [
    "ratings = data.map(lambda x: x.split('\\t')) \\\n",
    "                .map(lambda x: Rating(int(x[0]), int(x[1]), float(x[2])))\n",
    "ratings.take(5)"
   ]
  },
  {
   "cell_type": "code",
   "execution_count": 14,
   "id": "fleet-legislation",
   "metadata": {},
   "outputs": [],
   "source": [
    "rank = 10\n",
    "numIterations = 10\n",
    "model = ALS.train(ratings, rank, numIterations)"
   ]
  },
  {
   "cell_type": "code",
   "execution_count": 17,
   "id": "amazing-trout",
   "metadata": {},
   "outputs": [
    {
     "data": {
      "text/plain": [
       "[((504, 384), 2.35451735394139),\n",
       " ((648, 384), 3.4580079375549815),\n",
       " ((64, 384), 2.5997184727666487),\n",
       " ((472, 384), 3.283587108774022),\n",
       " ((896, 384), 2.692119500799067),\n",
       " ((280, 384), 3.8359512753882603),\n",
       " ((880, 384), 2.856541666576656),\n",
       " ((417, 384), 3.072823783352962),\n",
       " ((497, 384), 2.441328644897369),\n",
       " ((545, 384), 2.700306518746582)]"
      ]
     },
     "execution_count": 17,
     "metadata": {},
     "output_type": "execute_result"
    }
   ],
   "source": [
    "testdata = ratings.map(lambda p:(p[0], p[1]))\n",
    "predictions = model.predictAll(testdata) \\\n",
    "                    .map(lambda r:((r[0], r[1]), r[2]))\n",
    "predictions.take(10)"
   ]
  },
  {
   "cell_type": "code",
   "execution_count": 18,
   "id": "settled-secretariat",
   "metadata": {},
   "outputs": [
    {
     "data": {
      "text/plain": [
       "[((196, 242), (3.0, 3.967824526123883)),\n",
       " ((186, 302), (3.0, 3.113127047039603)),\n",
       " ((305, 451), (3.0, 2.8830778660854843)),\n",
       " ((210, 40), (3.0, 2.8535187716970687)),\n",
       " ((234, 1184), (2.0, 1.6097413502066225)),\n",
       " ((160, 234), (5.0, 4.353214917053813)),\n",
       " ((225, 193), (4.0, 4.667482579999463)),\n",
       " ((290, 88), (4.0, 3.8353785339024182)),\n",
       " ((181, 1081), (1.0, 1.0692081091065813)),\n",
       " ((20, 288), (1.0, 1.9739580452399301))]"
      ]
     },
     "execution_count": 18,
     "metadata": {},
     "output_type": "execute_result"
    }
   ],
   "source": [
    "ratesAndPreds = ratings.map(lambda r:((r[0], r[1]), r[2])) \\\n",
    "                        .join(predictions)\n",
    "ratesAndPreds.take(10)"
   ]
  },
  {
   "cell_type": "code",
   "execution_count": 16,
   "id": "interested-alaska",
   "metadata": {},
   "outputs": [
    {
     "name": "stdout",
     "output_type": "stream",
     "text": [
      "Mean Squared Error = 0.48302452821148517\n"
     ]
    }
   ],
   "source": [
    "MSE = ratesAndPreds.map(lambda r:(r[1][0] - r[1][1]) ** 2) \\\n",
    "                    .mean()\n",
    "print(\"Mean Squared Error = \" + str(MSE))"
   ]
  },
  {
   "cell_type": "code",
   "execution_count": 19,
   "id": "ruled-camera",
   "metadata": {},
   "outputs": [],
   "source": [
    "model.save(sc, \"ratings_model\")"
   ]
  },
  {
   "cell_type": "code",
   "execution_count": 20,
   "id": "handmade-purpose",
   "metadata": {},
   "outputs": [
    {
     "data": {
      "text/plain": [
       "<pyspark.mllib.recommendation.MatrixFactorizationModel at 0x7fad295e5130>"
      ]
     },
     "execution_count": 20,
     "metadata": {},
     "output_type": "execute_result"
    }
   ],
   "source": [
    "from pyspark.mllib.recommendation import MatrixFactorizationModel\n",
    "reloaded_model = MatrixFactorizationModel.load(sc, \"ratings_model\")\n",
    "reloaded_model"
   ]
  }
 ],
 "metadata": {
  "kernelspec": {
   "display_name": "Python 3",
   "language": "python",
   "name": "python3"
  },
  "language_info": {
   "codemirror_mode": {
    "name": "ipython",
    "version": 3
   },
   "file_extension": ".py",
   "mimetype": "text/x-python",
   "name": "python",
   "nbconvert_exporter": "python",
   "pygments_lexer": "ipython3",
   "version": "3.8.5"
  }
 },
 "nbformat": 4,
 "nbformat_minor": 5
}
