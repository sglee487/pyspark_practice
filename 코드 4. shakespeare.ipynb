{
 "cells": [
  {
   "cell_type": "code",
   "execution_count": 1,
   "id": "twelve-cream",
   "metadata": {},
   "outputs": [
    {
     "name": "stdout",
     "output_type": "stream",
     "text": [
      "Welcome to\n",
      "      ____              __\n",
      "     / __/__  ___ _____/ /__\n",
      "    _\\ \\/ _ \\/ _ `/ __/  '_/\n",
      "   /__ / .__/\\_,_/_/ /_/\\_\\   version 3.0.1\n",
      "      /_/\n",
      "\n",
      "Using Python version 3.8.5 (default, Sep  4 2020 02:22:02)\n",
      "SparkSession available as 'spark'.\n"
     ]
    }
   ],
   "source": [
    "import os\n",
    "SPARK_HOME = '/Users/isang-geon/spark'\n",
    "# exec(open(os.path.join(os.environ[\"SPARK_HOME\"], 'python/pyspark/shell.py')).read())\n",
    "exec(open(os.path.join(SPARK_HOME, 'python/pyspark/shell.py')).read())"
   ]
  },
  {
   "cell_type": "code",
   "execution_count": 2,
   "id": "eligible-texas",
   "metadata": {},
   "outputs": [],
   "source": [
    "import re"
   ]
  },
  {
   "cell_type": "code",
   "execution_count": 3,
   "id": "reasonable-oklahoma",
   "metadata": {},
   "outputs": [],
   "source": [
    "doc = sc.textFile(SPARK_HOME + \"/data/shakespeare.txt\")"
   ]
  },
  {
   "cell_type": "code",
   "execution_count": 4,
   "id": "refined-brave",
   "metadata": {},
   "outputs": [],
   "source": [
    "flattened = doc.filter(lambda line: len(line) > 0) \\\n",
    "                .flatMap(lambda line: re.split('\\W+', line))"
   ]
  },
  {
   "cell_type": "code",
   "execution_count": 5,
   "id": "organic-yahoo",
   "metadata": {},
   "outputs": [
    {
     "data": {
      "text/plain": [
       "['A', 'MIDSUMMER', 'NIGHT', 'S', 'DREAM', 'Now']"
      ]
     },
     "execution_count": 5,
     "metadata": {},
     "output_type": "execute_result"
    }
   ],
   "source": [
    "flattened.take(6)"
   ]
  },
  {
   "cell_type": "code",
   "execution_count": 6,
   "id": "incident-glory",
   "metadata": {},
   "outputs": [],
   "source": [
    "kvpairs = flattened.filter(lambda word: len(word) > 0) \\\n",
    "                    .map(lambda word:(word.lower(),1))"
   ]
  },
  {
   "cell_type": "code",
   "execution_count": 7,
   "id": "adjusted-tournament",
   "metadata": {},
   "outputs": [
    {
     "data": {
      "text/plain": [
       "[('a', 1), ('midsummer', 1), ('night', 1), ('s', 1), ('dream', 1)]"
      ]
     },
     "execution_count": 7,
     "metadata": {},
     "output_type": "execute_result"
    }
   ],
   "source": [
    "kvpairs.take(5)"
   ]
  },
  {
   "cell_type": "code",
   "execution_count": 8,
   "id": "stuck-shipping",
   "metadata": {},
   "outputs": [],
   "source": [
    "countsbyword = kvpairs.reduceByKey(lambda v1, v2: v1 + v2) \\\n",
    "                        .sortByKey(ascending=False)"
   ]
  },
  {
   "cell_type": "code",
   "execution_count": 9,
   "id": "norman-gossip",
   "metadata": {},
   "outputs": [
    {
     "data": {
      "text/plain": [
       "[('zwaggered', 1), ('zur', 2), ('zounds', 19), ('zone', 1), ('zodiacs', 1)]"
      ]
     },
     "execution_count": 9,
     "metadata": {},
     "output_type": "execute_result"
    }
   ],
   "source": [
    "countsbyword.take(5)"
   ]
  },
  {
   "cell_type": "code",
   "execution_count": 17,
   "id": "challenging-result",
   "metadata": {},
   "outputs": [],
   "source": [
    "topwords = countsbyword.map(lambda x:(x[1],x[0])) \\\n",
    "                        .sortByKey(ascending=False)"
   ]
  },
  {
   "cell_type": "code",
   "execution_count": 18,
   "id": "interracial-copying",
   "metadata": {},
   "outputs": [
    {
     "data": {
      "text/plain": [
       "[(26856, 'the'), (24116, 'and'), (22412, 'i'), (19225, 'to'), (16018, 'of')]"
      ]
     },
     "execution_count": 18,
     "metadata": {},
     "output_type": "execute_result"
    }
   ],
   "source": [
    "topwords.take(5)"
   ]
  },
  {
   "cell_type": "code",
   "execution_count": null,
   "id": "secure-definition",
   "metadata": {},
   "outputs": [],
   "source": []
  }
 ],
 "metadata": {
  "kernelspec": {
   "display_name": "Python 3",
   "language": "python",
   "name": "python3"
  },
  "language_info": {
   "codemirror_mode": {
    "name": "ipython",
    "version": 3
   },
   "file_extension": ".py",
   "mimetype": "text/x-python",
   "name": "python",
   "nbconvert_exporter": "python",
   "pygments_lexer": "ipython3",
   "version": "3.8.5"
  }
 },
 "nbformat": 4,
 "nbformat_minor": 5
}
