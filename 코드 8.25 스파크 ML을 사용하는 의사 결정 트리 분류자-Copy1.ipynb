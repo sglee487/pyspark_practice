{
 "cells": [
  {
   "cell_type": "code",
   "execution_count": 1,
   "id": "happy-pound",
   "metadata": {},
   "outputs": [
    {
     "name": "stdout",
     "output_type": "stream",
     "text": [
      "Welcome to\n",
      "      ____              __\n",
      "     / __/__  ___ _____/ /__\n",
      "    _\\ \\/ _ \\/ _ `/ __/  '_/\n",
      "   /__ / .__/\\_,_/_/ /_/\\_\\   version 3.0.1\n",
      "      /_/\n",
      "\n",
      "Using Python version 3.8.5 (default, Sep  4 2020 02:22:02)\n",
      "SparkSession available as 'spark'.\n"
     ]
    }
   ],
   "source": [
    "import os\n",
    "SPARK_HOME = '/Users/isang-geon/spark'\n",
    "# exec(open(os.path.join(os.environ[\"SPARK_HOME\"], 'python/pyspark/shell.py')).read())\n",
    "exec(open(os.path.join(SPARK_HOME, 'python/pyspark/shell.py')).read())"
   ]
  },
  {
   "cell_type": "code",
   "execution_count": 3,
   "id": "interracial-execution",
   "metadata": {},
   "outputs": [],
   "source": [
    "from pyspark.ml.linalg import DenseVector\n",
    "from pyspark.ml.classification import DecisionTreeClassifier\n",
    "from pyspark.ml.evaluation import MulticlassClassificationEvaluator\n",
    "from pyspark.sql import Row\n",
    "\n",
    "# 레이블이 지정된 관찰의 데이터프레임 준비\n",
    "outlook = {\"sunny\": 0.0, \"overcast\": 1.0, \"rainy\": 2.0}\n",
    "observations = [\n",
    "    Row(label=0, features=DenseVector([outlook[\"sunny\"], 85, 85, False])),\n",
    "    Row(label=0, features=DenseVector([outlook[\"sunny\"], 80, 90, True])),\n",
    "    Row(label=1, features=DenseVector([outlook[\"overcast\"], 83, 96, False])),\n",
    "    Row(label=1, features=DenseVector([outlook[\"rainy\"], 70, 96, False])),\n",
    "    Row(label=1, features=DenseVector([outlook[\"rainy\"], 68, 80, False])),\n",
    "    Row(label=0, features=DenseVector([outlook[\"rainy\"], 65, 70, True])),\n",
    "    Row(label=1, features=DenseVector([outlook[\"overcast\"], 64, 65, True])),\n",
    "    Row(label=0, features=DenseVector([outlook[\"sunny\"], 72, 95, False])),\n",
    "    Row(label=1, features=DenseVector([outlook[\"sunny\"], 69, 70, False])),\n",
    "    Row(label=1, features=DenseVector([outlook[\"sunny\"], 75, 80, False])),\n",
    "    Row(label=1, features=DenseVector([outlook[\"sunny\"], 75, 70, True])),\n",
    "    Row(label=1, features=DenseVector([outlook[\"overcast\"], 72, 90, True])),\n",
    "    Row(label=1, features=DenseVector([outlook[\"overcast\"], 81, 75, False])),\n",
    "    Row(label=0, features=DenseVector([outlook[\"rainy\"], 71, 91, True]))\n",
    "]\n",
    "rdd = sc.parallelize(observations)\n",
    "data = spark.createDataFrame(rdd)"
   ]
  },
  {
   "cell_type": "code",
   "execution_count": 4,
   "id": "other-participant",
   "metadata": {},
   "outputs": [],
   "source": [
    "# 데이터를 교육 및 테스트 세트로 분할\n",
    "(trainingData, testData) = data.randomSplit([0.7, 0.3])"
   ]
  },
  {
   "cell_type": "code",
   "execution_count": 6,
   "id": "significant-cisco",
   "metadata": {},
   "outputs": [],
   "source": [
    "# 의사 결정 트리 모델 교육\n",
    "dt = DecisionTreeClassifier()\n",
    "model = dt.fit(trainingData)"
   ]
  },
  {
   "cell_type": "code",
   "execution_count": 7,
   "id": "binding-approval",
   "metadata": {},
   "outputs": [
    {
     "name": "stdout",
     "output_type": "stream",
     "text": [
      "+-----+-------------------+-------------+-----------+----------+\n",
      "|label|           features|rawPrediction|probability|prediction|\n",
      "+-----+-------------------+-------------+-----------+----------+\n",
      "|    0|[0.0,85.0,85.0,0.0]|    [2.0,0.0]|  [1.0,0.0]|       0.0|\n",
      "|    1|[2.0,68.0,80.0,0.0]|    [1.0,0.0]|  [1.0,0.0]|       0.0|\n",
      "|    1|[2.0,70.0,96.0,0.0]|    [1.0,0.0]|  [1.0,0.0]|       0.0|\n",
      "|    1|[0.0,69.0,70.0,0.0]|    [0.0,1.0]|  [0.0,1.0]|       1.0|\n",
      "|    1|[0.0,75.0,80.0,0.0]|    [2.0,0.0]|  [1.0,0.0]|       0.0|\n",
      "|    0|[2.0,71.0,91.0,1.0]|    [1.0,0.0]|  [1.0,0.0]|       0.0|\n",
      "+-----+-------------------+-------------+-----------+----------+\n",
      "\n"
     ]
    }
   ],
   "source": [
    "# 테스트 데이터 세트를 사용해 예측하기\n",
    "predictions = model.transform(testData)\n",
    "predictions.show()"
   ]
  },
  {
   "cell_type": "code",
   "execution_count": 8,
   "id": "offensive-electron",
   "metadata": {},
   "outputs": [
    {
     "name": "stdout",
     "output_type": "stream",
     "text": [
      "Test Error = 0.5 \n"
     ]
    }
   ],
   "source": [
    "# 모델 정확성 평가\n",
    "evaluator = MulticlassClassificationEvaluator(\n",
    "    labelCol=\"label\", predictionCol=\"prediction\", metricName=\"accuracy\")\n",
    "accuracy = evaluator.evaluate(predictions)\n",
    "print(\"Test Error = %g \" %(1.0 - accuracy))"
   ]
  }
 ],
 "metadata": {
  "kernelspec": {
   "display_name": "Python 3",
   "language": "python",
   "name": "python3"
  },
  "language_info": {
   "codemirror_mode": {
    "name": "ipython",
    "version": 3
   },
   "file_extension": ".py",
   "mimetype": "text/x-python",
   "name": "python",
   "nbconvert_exporter": "python",
   "pygments_lexer": "ipython3",
   "version": "3.8.5"
  }
 },
 "nbformat": 4,
 "nbformat_minor": 5
}
