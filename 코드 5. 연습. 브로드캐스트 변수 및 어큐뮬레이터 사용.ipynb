{
 "cells": [
  {
   "cell_type": "code",
   "execution_count": 1,
   "id": "crazy-mother",
   "metadata": {},
   "outputs": [
    {
     "name": "stdout",
     "output_type": "stream",
     "text": [
      "Welcome to\n",
      "      ____              __\n",
      "     / __/__  ___ _____/ /__\n",
      "    _\\ \\/ _ \\/ _ `/ __/  '_/\n",
      "   /__ / .__/\\_,_/_/ /_/\\_\\   version 3.0.1\n",
      "      /_/\n",
      "\n",
      "Using Python version 3.8.5 (default, Sep  4 2020 02:22:02)\n",
      "SparkSession available as 'spark'.\n"
     ]
    }
   ],
   "source": [
    "import os\n",
    "SPARK_HOME = '/Users/isang-geon/spark'\n",
    "# exec(open(os.path.join(os.environ[\"SPARK_HOME\"], 'python/pyspark/shell.py')).read())\n",
    "exec(open(os.path.join(SPARK_HOME, 'python/pyspark/shell.py')).read())"
   ]
  },
  {
   "cell_type": "raw",
   "id": "academic-spray",
   "metadata": {},
   "source": [
    "이 연습에서는 브로드캐스트 변수를 사용해 알려진 불용어('a', 'and', 'or', 'the')를 제거한 다음, 어큐뮬레이터를 사용해 평균 단어 길이를 계산한다."
   ]
  },
  {
   "cell_type": "code",
   "execution_count": 2,
   "id": "buried-matrix",
   "metadata": {},
   "outputs": [],
   "source": [
    "import urllib.request\n",
    "stopwordsurl = \"https://s3.amazonaws.com/sparkusingpython/stopwords/stop-word-list.csv\"\n",
    "req = urllib.request.Request(stopwordsurl)\n",
    "with urllib.request.urlopen(req) as response:\n",
    "    stopwordsdata = response.read().decode(\"utf-8\")\n",
    "stopwordslist = stopwordsdata.split(\",\")"
   ]
  },
  {
   "cell_type": "code",
   "execution_count": 3,
   "id": "detected-internet",
   "metadata": {},
   "outputs": [],
   "source": [
    "stopwords = sc.broadcast(stopwordslist)"
   ]
  },
  {
   "cell_type": "code",
   "execution_count": 4,
   "id": "lonely-secondary",
   "metadata": {},
   "outputs": [],
   "source": [
    "word_count = sc.accumulator(0)\n",
    "total_len = sc.accumulator(0.0)"
   ]
  },
  {
   "cell_type": "code",
   "execution_count": 5,
   "id": "nominated-circumstances",
   "metadata": {},
   "outputs": [],
   "source": [
    "def add_values(word, word_count, total_len):\n",
    "    word_count += 1\n",
    "    total_len += len(word)"
   ]
  },
  {
   "cell_type": "code",
   "execution_count": 6,
   "id": "discrete-reading",
   "metadata": {},
   "outputs": [],
   "source": [
    "words = sc.textFile('file://' + SPARK_HOME + \"/data/shakespeare.txt\") \\\n",
    "            .flatMap(lambda line: line.split()) \\\n",
    "            .map(lambda x: x.lower()) \\\n",
    "            .filter(lambda x: x not in stopwords.value)"
   ]
  },
  {
   "cell_type": "code",
   "execution_count": 7,
   "id": "exposed-index",
   "metadata": {},
   "outputs": [],
   "source": [
    "words.foreach(lambda x: add_values(x, word_count, total_len))"
   ]
  },
  {
   "cell_type": "code",
   "execution_count": 8,
   "id": "specialized-disposal",
   "metadata": {},
   "outputs": [
    {
     "name": "stdout",
     "output_type": "stream",
     "text": [
      "Total Number of Words: 966958\n",
      "Average Word Length: 3.608722405730135\n"
     ]
    }
   ],
   "source": [
    "avgwordlen = total_len.value/word_count.value\n",
    "print(\"Total Number of Words: \" + str(word_count.value))\n",
    "print(\"Average Word Length: \" + str(avgwordlen))"
   ]
  },
  {
   "cell_type": "code",
   "execution_count": null,
   "id": "greek-israeli",
   "metadata": {},
   "outputs": [],
   "source": []
  }
 ],
 "metadata": {
  "kernelspec": {
   "display_name": "Python 3",
   "language": "python",
   "name": "python3"
  },
  "language_info": {
   "codemirror_mode": {
    "name": "ipython",
    "version": 3
   },
   "file_extension": ".py",
   "mimetype": "text/x-python",
   "name": "python",
   "nbconvert_exporter": "python",
   "pygments_lexer": "ipython3",
   "version": "3.8.5"
  }
 },
 "nbformat": 4,
 "nbformat_minor": 5
}
