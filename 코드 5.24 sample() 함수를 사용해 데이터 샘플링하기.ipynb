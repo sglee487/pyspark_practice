{
 "cells": [
  {
   "cell_type": "code",
   "execution_count": 1,
   "id": "northern-format",
   "metadata": {},
   "outputs": [
    {
     "name": "stdout",
     "output_type": "stream",
     "text": [
      "Welcome to\n",
      "      ____              __\n",
      "     / __/__  ___ _____/ /__\n",
      "    _\\ \\/ _ \\/ _ `/ __/  '_/\n",
      "   /__ / .__/\\_,_/_/ /_/\\_\\   version 3.0.1\n",
      "      /_/\n",
      "\n",
      "Using Python version 3.8.5 (default, Sep  4 2020 02:22:02)\n",
      "SparkSession available as 'spark'.\n"
     ]
    }
   ],
   "source": [
    "import os\n",
    "SPARK_HOME = '/Users/isang-geon/spark'\n",
    "# exec(open(os.path.join(os.environ[\"SPARK_HOME\"], 'python/pyspark/shell.py')).read())\n",
    "exec(open(os.path.join(SPARK_HOME, 'python/pyspark/shell.py')).read())"
   ]
  },
  {
   "cell_type": "code",
   "execution_count": 2,
   "id": "false-illinois",
   "metadata": {},
   "outputs": [
    {
     "data": {
      "text/plain": [
       "129107"
      ]
     },
     "execution_count": 2,
     "metadata": {},
     "output_type": "execute_result"
    }
   ],
   "source": [
    "doc = sc.textFile(\"file://\" + SPARK_HOME + \"/data/shakespeare.txt\")\n",
    "doc.count()"
   ]
  },
  {
   "cell_type": "code",
   "execution_count": 3,
   "id": "wireless-texture",
   "metadata": {},
   "outputs": [
    {
     "data": {
      "text/plain": [
       "12890"
      ]
     },
     "execution_count": 3,
     "metadata": {},
     "output_type": "execute_result"
    }
   ],
   "source": [
    "sampled_doc = doc.sample(False, 0.1, seed=None)\n",
    "sampled_doc.count()"
   ]
  },
  {
   "cell_type": "raw",
   "id": "compatible-knock",
   "metadata": {},
   "source": [
    "키/값 쌍 RDD에서 연산하는 비슷한 sampleByKey() 함수도 있다."
   ]
  }
 ],
 "metadata": {
  "kernelspec": {
   "display_name": "Python 3",
   "language": "python",
   "name": "python3"
  },
  "language_info": {
   "codemirror_mode": {
    "name": "ipython",
    "version": 3
   },
   "file_extension": ".py",
   "mimetype": "text/x-python",
   "name": "python",
   "nbconvert_exporter": "python",
   "pygments_lexer": "ipython3",
   "version": "3.8.5"
  }
 },
 "nbformat": 4,
 "nbformat_minor": 5
}
