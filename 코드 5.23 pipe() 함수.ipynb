{
 "cells": [
  {
   "cell_type": "code",
   "execution_count": 1,
   "id": "liberal-chair",
   "metadata": {},
   "outputs": [
    {
     "name": "stdout",
     "output_type": "stream",
     "text": [
      "Welcome to\n",
      "      ____              __\n",
      "     / __/__  ___ _____/ /__\n",
      "    _\\ \\/ _ \\/ _ `/ __/  '_/\n",
      "   /__ / .__/\\_,_/_/ /_/\\_\\   version 3.0.1\n",
      "      /_/\n",
      "\n",
      "Using Python version 3.8.5 (default, Sep  4 2020 02:22:02)\n",
      "SparkSession available as 'spark'.\n"
     ]
    }
   ],
   "source": [
    "import os\n",
    "SPARK_HOME = '/Users/isang-geon/spark'\n",
    "# exec(open(os.path.join(os.environ[\"SPARK_HOME\"], 'python/pyspark/shell.py')).read())\n",
    "exec(open(os.path.join(SPARK_HOME, 'python/pyspark/shell.py')).read())"
   ]
  },
  {
   "cell_type": "code",
   "execution_count": 5,
   "id": "ultimate-hypothetical",
   "metadata": {},
   "outputs": [],
   "source": [
    "nowpath = os.getcwd()"
   ]
  },
  {
   "cell_type": "code",
   "execution_count": 13,
   "id": "electrical-louisiana",
   "metadata": {},
   "outputs": [],
   "source": [
    "!chmod +x parsefixedwidth.pl"
   ]
  },
  {
   "cell_type": "code",
   "execution_count": 14,
   "id": "loved-announcement",
   "metadata": {},
   "outputs": [
    {
     "data": {
      "text/plain": [
       "[['384096', '10287522', '2016-317', 'Hayward', 'CA', '94541']]"
      ]
     },
     "execution_count": 14,
     "metadata": {},
     "output_type": "execute_result"
    }
   ],
   "source": [
    "sc.addFile(nowpath + \"/parsefixedwidth.pl\")\n",
    "fixed_width = sc.parallelize(['384096102875222016-317Hayward     CA94541'])\n",
    "piped = fixed_width.pipe(nowpath + \"/parsefixedwidth.pl\") \\\n",
    "                    .map(lambda x: x.split('\\t'))\n",
    "piped.collect()"
   ]
  }
 ],
 "metadata": {
  "kernelspec": {
   "display_name": "Python 3",
   "language": "python",
   "name": "python3"
  },
  "language_info": {
   "codemirror_mode": {
    "name": "ipython",
    "version": 3
   },
   "file_extension": ".py",
   "mimetype": "text/x-python",
   "name": "python",
   "nbconvert_exporter": "python",
   "pygments_lexer": "ipython3",
   "version": "3.8.5"
  }
 },
 "nbformat": 4,
 "nbformat_minor": 5
}
