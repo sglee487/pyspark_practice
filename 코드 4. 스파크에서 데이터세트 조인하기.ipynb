{
 "cells": [
  {
   "cell_type": "code",
   "execution_count": 1,
   "id": "immune-banks",
   "metadata": {},
   "outputs": [
    {
     "name": "stdout",
     "output_type": "stream",
     "text": [
      "Welcome to\n",
      "      ____              __\n",
      "     / __/__  ___ _____/ /__\n",
      "    _\\ \\/ _ \\/ _ `/ __/  '_/\n",
      "   /__ / .__/\\_,_/_/ /_/\\_\\   version 3.0.1\n",
      "      /_/\n",
      "\n",
      "Using Python version 3.8.5 (default, Sep  4 2020 02:22:02)\n",
      "SparkSession available as 'spark'.\n"
     ]
    }
   ],
   "source": [
    "import os\n",
    "SPARK_HOME = '/Users/isang-geon/spark'\n",
    "# exec(open(os.path.join(os.environ[\"SPARK_HOME\"], 'python/pyspark/shell.py')).read())\n",
    "exec(open(os.path.join(SPARK_HOME, 'python/pyspark/shell.py')).read())"
   ]
  },
  {
   "cell_type": "code",
   "execution_count": 2,
   "id": "accompanied-buyer",
   "metadata": {},
   "outputs": [],
   "source": [
    "stations = sc.textFile(SPARK_HOME + '/data/bike-share/stations')"
   ]
  },
  {
   "cell_type": "code",
   "execution_count": 4,
   "id": "careful-sensitivity",
   "metadata": {},
   "outputs": [
    {
     "data": {
      "text/plain": [
       "['2,San Jose Diridon Caltrain Station,37.329732,-121.901782,27,San Jose,8/6/2013',\n",
       " '3,San Jose Civic Center,37.330698,-121.888979,15,San Jose,8/5/2013',\n",
       " '4,Santa Clara at Almaden,37.333988,-121.894902,11,San Jose,8/6/2013',\n",
       " '5,Adobe on Almaden,37.331415,-121.8932,19,San Jose,8/5/2013',\n",
       " '6,San Pedro Square,37.336721,-121.894074,15,San Jose,8/7/2013']"
      ]
     },
     "execution_count": 4,
     "metadata": {},
     "output_type": "execute_result"
    }
   ],
   "source": [
    "stations.take(5)"
   ]
  },
  {
   "cell_type": "code",
   "execution_count": 5,
   "id": "sublime-houston",
   "metadata": {},
   "outputs": [],
   "source": [
    "status = sc.textFile(SPARK_HOME + '/data/bike-share/status')"
   ]
  },
  {
   "cell_type": "code",
   "execution_count": 6,
   "id": "known-breach",
   "metadata": {},
   "outputs": [
    {
     "data": {
      "text/plain": [
       "['10,9,6,\"2015-02-28 23:59:01\"',\n",
       " '10,9,6,\"2015-02-28 23:58:02\"',\n",
       " '10,9,6,\"2015-02-28 23:57:02\"',\n",
       " '10,8,7,\"2015-02-28 23:56:02\"',\n",
       " '10,8,7,\"2015-02-28 23:55:02\"']"
      ]
     },
     "execution_count": 6,
     "metadata": {},
     "output_type": "execute_result"
    }
   ],
   "source": [
    "status.take(5)"
   ]
  },
  {
   "cell_type": "code",
   "execution_count": 7,
   "id": "sustained-apache",
   "metadata": {},
   "outputs": [],
   "source": [
    "status2 = status.map(lambda x: x.split(',')) \\\n",
    "                .map(lambda x: (x[0], x[1], x[2], x[3].replace('\"',''))) \\\n",
    "                .map(lambda x: (x[0], x[1], x[2], x[3].split(' '))) \\\n",
    "                .map(lambda x: (x[0], x[1], x[2], x[3][0].split('-'), x[3][1].split(':'))) \\\n",
    "                .map(lambda x: (int(x[0]), int(x[1]), int(x[3][0]), int(x[3][1]), int(x[3][2]), int(x[4][0])))"
   ]
  },
  {
   "cell_type": "code",
   "execution_count": 8,
   "id": "everyday-national",
   "metadata": {},
   "outputs": [
    {
     "data": {
      "text/plain": [
       "(10, 9, 2015, 2, 28, 23)"
      ]
     },
     "execution_count": 8,
     "metadata": {},
     "output_type": "execute_result"
    }
   ],
   "source": [
    "status2.first()"
   ]
  },
  {
   "cell_type": "raw",
   "id": "stuck-fault",
   "metadata": {},
   "source": [
    "[(station_id), bikes_available, year, month, day, hour),...]"
   ]
  },
  {
   "cell_type": "code",
   "execution_count": 9,
   "id": "functional-contact",
   "metadata": {},
   "outputs": [],
   "source": [
    "status3 = status2.filter(lambda x: x[2]==2015 and \\\n",
    "                        x[3]==2 and \\\n",
    "                        x[4]>=22) \\\n",
    "                        .map(lambda x:(x[0], x[1], x[5]))"
   ]
  },
  {
   "cell_type": "code",
   "execution_count": 11,
   "id": "ultimate-netscape",
   "metadata": {},
   "outputs": [],
   "source": [
    "stations2 = stations.map(lambda x: x.split(',')) \\\n",
    "                    .filter(lambda x: x[5] == 'San Jose') \\\n",
    "                    .map(lambda x:(int(x[0]), x[1]))"
   ]
  },
  {
   "cell_type": "code",
   "execution_count": 12,
   "id": "joined-supply",
   "metadata": {},
   "outputs": [
    {
     "data": {
      "text/plain": [
       "(2, 'San Jose Diridon Caltrain Station')"
      ]
     },
     "execution_count": 12,
     "metadata": {},
     "output_type": "execute_result"
    }
   ],
   "source": [
    "stations2.first()"
   ]
  },
  {
   "cell_type": "code",
   "execution_count": 13,
   "id": "potential-boring",
   "metadata": {},
   "outputs": [],
   "source": [
    "status_kv = status3.keyBy(lambda x: x[0])\n",
    "stations_kv = stations2.keyBy(lambda x: x[0])"
   ]
  },
  {
   "cell_type": "code",
   "execution_count": 15,
   "id": "pregnant-rwanda",
   "metadata": {},
   "outputs": [
    {
     "data": {
      "text/plain": [
       "(10, (10, 9, 23))"
      ]
     },
     "execution_count": 15,
     "metadata": {},
     "output_type": "execute_result"
    }
   ],
   "source": [
    "status_kv.first()"
   ]
  },
  {
   "cell_type": "code",
   "execution_count": 16,
   "id": "worldwide-works",
   "metadata": {},
   "outputs": [
    {
     "data": {
      "text/plain": [
       "(2, (2, 'San Jose Diridon Caltrain Station'))"
      ]
     },
     "execution_count": 16,
     "metadata": {},
     "output_type": "execute_result"
    }
   ],
   "source": [
    "stations_kv.first()"
   ]
  },
  {
   "cell_type": "code",
   "execution_count": 17,
   "id": "alleged-flooring",
   "metadata": {},
   "outputs": [],
   "source": [
    "joined = status_kv.join(stations_kv)"
   ]
  },
  {
   "cell_type": "code",
   "execution_count": 18,
   "id": "certain-invalid",
   "metadata": {},
   "outputs": [
    {
     "data": {
      "text/plain": [
       "(12, ((12, 10, 23), (12, 'SJSU 4th at San Carlos')))"
      ]
     },
     "execution_count": 18,
     "metadata": {},
     "output_type": "execute_result"
    }
   ],
   "source": [
    "joined.first()"
   ]
  },
  {
   "cell_type": "code",
   "execution_count": 19,
   "id": "protecting-keyboard",
   "metadata": {},
   "outputs": [],
   "source": [
    "cleaned = joined.map(lambda x:(x[0], x[1][0][1], x[1][0][2], x[1][1][1]))"
   ]
  },
  {
   "cell_type": "code",
   "execution_count": 20,
   "id": "rapid-worship",
   "metadata": {},
   "outputs": [
    {
     "data": {
      "text/plain": [
       "(12, 10, 23, 'SJSU 4th at San Carlos')"
      ]
     },
     "execution_count": 20,
     "metadata": {},
     "output_type": "execute_result"
    }
   ],
   "source": [
    "cleaned.first()"
   ]
  },
  {
   "cell_type": "raw",
   "id": "buried-period",
   "metadata": {},
   "source": [
    "[(station_id, bikes_available, hour, name),...]"
   ]
  },
  {
   "cell_type": "code",
   "execution_count": 21,
   "id": "proprietary-bones",
   "metadata": {},
   "outputs": [],
   "source": [
    "avgbyhour = cleaned.keyBy(lambda x:(x[3],x[2])) \\\n",
    "                    .mapValues(lambda x:(x[1], 1)) \\\n",
    "                    .reduceByKey(lambda x, y:(x[0] + y[0], x[1] + y[1])) \\\n",
    "                    .mapValues(lambda x:(x[0]/x[1]))"
   ]
  },
  {
   "cell_type": "code",
   "execution_count": 22,
   "id": "czech-bottom",
   "metadata": {},
   "outputs": [
    {
     "data": {
      "text/plain": [
       "(('SJSU 4th at San Carlos', 21), 11.507142857142858)"
      ]
     },
     "execution_count": 22,
     "metadata": {},
     "output_type": "execute_result"
    }
   ],
   "source": [
    "avgbyhour.first()"
   ]
  },
  {
   "cell_type": "raw",
   "id": "dramatic-rochester",
   "metadata": {},
   "source": [
    "[((name, hour), bikes_available),...]"
   ]
  },
  {
   "cell_type": "code",
   "execution_count": 24,
   "id": "graphic-tourism",
   "metadata": {},
   "outputs": [
    {
     "data": {
      "text/plain": [
       "[('San Jose Diridon Caltrain Station', 17, 16.590476190476192),\n",
       " ('San Jose Diridon Caltrain Station', 7, 16.492857142857144),\n",
       " ('San Jose Diridon Caltrain Station', 6, 16.34285714285714),\n",
       " ('San Jose Diridon Caltrain Station', 18, 16.21904761904762),\n",
       " ('San Jose Diridon Caltrain Station', 19, 15.64047619047619),\n",
       " ('San Jose Diridon Caltrain Station', 22, 15.516666666666667),\n",
       " ('San Jose Diridon Caltrain Station', 0, 15.445238095238095),\n",
       " ('San Jose Diridon Caltrain Station', 20, 15.416666666666666),\n",
       " ('San Jose Diridon Caltrain Station', 1, 15.392857142857142),\n",
       " ('San Jose Diridon Caltrain Station', 4, 15.383333333333333)]"
      ]
     },
     "execution_count": 24,
     "metadata": {},
     "output_type": "execute_result"
    }
   ],
   "source": [
    "topavail = avgbyhour.keyBy(lambda x: x[1]) \\\n",
    "                    .sortByKey(ascending=False) \\\n",
    "                    .map(lambda x:(x[1][0][0], x[1][0][1], x[0]))\n",
    "topavail.take(10)"
   ]
  }
 ],
 "metadata": {
  "kernelspec": {
   "display_name": "Python 3",
   "language": "python",
   "name": "python3"
  },
  "language_info": {
   "codemirror_mode": {
    "name": "ipython",
    "version": 3
   },
   "file_extension": ".py",
   "mimetype": "text/x-python",
   "name": "python",
   "nbconvert_exporter": "python",
   "pygments_lexer": "ipython3",
   "version": "3.8.5"
  }
 },
 "nbformat": 4,
 "nbformat_minor": 5
}
